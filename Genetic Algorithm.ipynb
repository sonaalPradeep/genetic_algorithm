{
 "cells": [
  {
   "cell_type": "markdown",
   "metadata": {},
   "source": [
    "# <u>Machine Learning Lab : Assignment 3</u>\n",
    "\n",
    "## Genetic Algorithm\n",
    "\n",
    "Notebook authored by Sonaal P. Pradeep (B170163CS)\n",
    "\n",
    "<hr>"
   ]
  },
  {
   "cell_type": "markdown",
   "metadata": {},
   "source": [
    "## About the algorithm\n",
    "\n",
    "Brute force applications of problems require a lot of time and processing power to find an optimal solution. The genetic algorithm is an approach which incorporates techniques <b>seen naturaly in nature</b>, in the form of evolution.\n",
    "\n",
    "One iteration in a genetic algorithm consists of the following : \n",
    "1. Parent Selection\n",
    "2. Inter-Breeding\n",
    "3. Mutation\n",
    "4. Survivors Selection\n",
    "\n",
    "Before implementing a problem for this algorithm, the problem <b>needs to be encoded</b>. The encoding can be of the following forms : \n",
    "1. Binary Representation\n",
    "2. Integer Representation\n",
    "3. Real Value Representation\n",
    "4. Permutation Representation\n",
    "\n",
    "<br>"
   ]
  },
  {
   "cell_type": "markdown",
   "metadata": {},
   "source": [
    "## Constraints given \n",
    "\n",
    "1. The <b>objective function</b> used is $f(x) = x^3 + 9$. The goal is to <b> maximize the objective fuction</b>.\n",
    "2. The value of _x_ is represented as a <b>$6$ digit binary number</b>. \n",
    "3. Binary encoding scheme\n",
    "4. Size of the population is $10$\n",
    "5. Parent selection is based on the <b>Roulette Wheel selection </b>.\n",
    "6. Mutation probability $0.01$.\n",
    "7. Survival selection criteria : Replace $20$% worst population in offsprings with $20$% best population from the parent.\n",
    "\n",
    "<br>"
   ]
  },
  {
   "cell_type": "markdown",
   "metadata": {},
   "source": [
    "## Importing necessary modules"
   ]
  },
  {
   "cell_type": "code",
   "execution_count": 16,
   "metadata": {},
   "outputs": [],
   "source": [
    "import numpy as np\n",
    "import math\n",
    "import random\n",
    "\n",
    "import matplotlib.pyplot as plt\n",
    "from pylab import rcParams\n",
    "\n",
    "rcParams['figure.figsize'] = 15, 10"
   ]
  },
  {
   "cell_type": "markdown",
   "metadata": {},
   "source": [
    "## User defined functions"
   ]
  },
  {
   "cell_type": "code",
   "execution_count": 17,
   "metadata": {},
   "outputs": [],
   "source": [
    "def f(x):\n",
    "    '''\n",
    "    The objective function is defined so that it can be used in the calculations involved in the roulette \n",
    "    wheel selection and survivor selection.\n",
    "    \n",
    "    Input : Number\n",
    "    Returns : The value wrt the objective function i.e x^3 + 9\n",
    "    '''\n",
    "    return pow(x, 3) + 9"
   ]
  },
  {
   "cell_type": "code",
   "execution_count": 18,
   "metadata": {},
   "outputs": [],
   "source": [
    "def create_Parents(population_Size, bit_Length):\n",
    "    '''\n",
    "    The parents choosen initially are generated randomly based on the constraints / encoding of the problem\n",
    "    \n",
    "    Parameters : population_Size - The number of parents to choose\n",
    "                 bit_Length - Problem specific encoding, acts as encoding\n",
    "                 \n",
    "    Returns : bitStrings of required length and size. The string format for binary numbers are removed as well\n",
    "    and appended to the left with 0's, the corressponding list of numbers\n",
    "    '''\n",
    "    max_number = pow(2, bit_Length) - 1\n",
    "    num_list = [np.random.randint(0, max_number) for _ in range(population_Size)]\n",
    "    \n",
    "    return [format(num, \"#08b\").lstrip('0b').zfill(6) for num in num_list]"
   ]
  },
  {
   "cell_type": "code",
   "execution_count": 19,
   "metadata": {},
   "outputs": [],
   "source": [
    "def find_chance(parents):\n",
    "    '''\n",
    "    Finds the probabilities required for the roulette wheel selection\n",
    "    \n",
    "    Input : parents - The parents who's chances need to be calculated\n",
    "    Returns : List of chances for corresponding parents\n",
    "    '''\n",
    "    num_list = [int(b, 2) for b in parents]\n",
    "    list_sum = sum([f(x) for x in num_list])\n",
    "    \n",
    "    return [f(num) / list_sum for num in num_list]"
   ]
  },
  {
   "cell_type": "code",
   "execution_count": 20,
   "metadata": {},
   "outputs": [],
   "source": [
    "def select_Succesors(parents, population):\n",
    "    '''\n",
    "    Choosing the successors which will propogate to the next generation\n",
    "    \n",
    "    Input : parents - The parents who have chances to go to the next generation\n",
    "            population - \n",
    "    Returns : The choosen children to go to the next generation\n",
    "    '''\n",
    "    selection_chance = find_chance(parents)\n",
    "    return [np.random.choice(parents, p = selection_chance) for _ in range(population)]"
   ]
  },
  {
   "cell_type": "code",
   "execution_count": 21,
   "metadata": {},
   "outputs": [],
   "source": [
    "def cross_breed(parent, cross_over_type, cross_breed_shuffle, bit_cross_over, bit_Length):\n",
    "    '''\n",
    "    Cross breeding deals with the swapping of characteristics of 2 parents. Its the first layer of process what leads\n",
    "    to generating new children. It happens at the phenotype level\n",
    "    \n",
    "    Input : parent - The genes that are going through cross breeding\n",
    "            cross_over_type - Can be \"uniform\" or \"single-point\"\n",
    "                        In \"single-point\", a index is selected and all the genes to the right of both parents\n",
    "                        interchanged\n",
    "                        In \"uniform\", all bits have an equivalent chance of being swapped\n",
    "            shuffle - If True, the parent is shuffled before cross_breeding\n",
    "            bit_cross_over - Used when cross_over_type is \"uniform\", governs the chance a bit will get exchanged\n",
    "            bit_Length - The length of the genes\n",
    "            \n",
    "    Returns : Children in which cross breeding is complete. Their size is the same size as that of the parents\n",
    "    '''\n",
    "    partition_size = len(parent) // 2\n",
    "    \n",
    "    if cross_breed_shuffle:\n",
    "        np.random.shuffle(parent)\n",
    "    \n",
    "    child_set_1, child_set_2 = parent[:partition_size], children[partition_size:]\n",
    "    \n",
    "    if cross_over_type == \"uniform\":\n",
    "\n",
    "        for ind in range(partition_size):\n",
    "            for b in range(bit_Length):\n",
    "                rand_val = np.random.rand()\n",
    "\n",
    "                if rand_val < cross_over_chance:\n",
    "\n",
    "                    bit_1 = int(child_set_1[ind], 2) & pow(2, b)\n",
    "                    bit_2 = int(child_set_2[ind], 2) & pow(2, b)\n",
    "\n",
    "                    if bit_1 != bit_2:\n",
    "                        child_set_1[ind] = format(int(child_set_1[ind], 2) ^ pow(2, b), \"#08b\").lstrip('0b').zfill(6)\n",
    "                        child_set_2[ind] = format(int(child_set_2[ind], 2) ^ pow(2, b), \"#08b\").lstrip('0b').zfill(6)\n",
    "                    \n",
    "        return np.append(child_set_1, child_set_2)\n",
    "    \n",
    "    elif cross_over_type == \"single-point\":\n",
    "        \n",
    "        for ind in range(partition_size):    \n",
    "            slice_index = np.random.randint(1, bit_Length - 2)\n",
    "            \n",
    "            r_child_1 = child_set_1[ind][slice_index:]\n",
    "            r_child_2 = child_set_2[ind][slice_index:]\n",
    "            \n",
    "            child_set_1[ind] = child_set_1[ind][:slice_index] + r_child_2\n",
    "            child_set_2[ind] = child_set_2[ind][:slice_index] + r_child_1\n",
    "            \n",
    "        return np.append(child_set_1, child_set_2)"
   ]
  },
  {
   "cell_type": "code",
   "execution_count": 22,
   "metadata": {},
   "outputs": [],
   "source": [
    "def mutation(children, mutation_type, bit_mutation, bit_Length):\n",
    "    '''\n",
    "    Mutation happens at the genotype level, and it happens inherently in the children, and doesn't require a \n",
    "    pair. \n",
    "    \n",
    "    Input : children - The genes that will undergo mutation\n",
    "            mutation_type - The method in which mutation would happen. It can be \"scan-all\" or \"random\"\n",
    "                    In \"scan-all\", each bit has to chance to get switched\n",
    "                    In \"random\", a random bit is choosen to get swapped\n",
    "            bit_mutation - The likelihood a bit would interchange, and is necessary if mutation_type is \"scan-all\"\n",
    "            bit_Length - The length of the genes\n",
    "            \n",
    "    Returns : The mutated children\n",
    "    '''\n",
    "    population_size = len(children)\n",
    "    \n",
    "    if mutation_type == \"scan-all\":\n",
    "        for ind in range(population_size):\n",
    "            for b in range(bit_Length):\n",
    "                rand_val = np.random.ranf()\n",
    "\n",
    "                if rand_val < bit_mutation:\n",
    "                    children[ind] = format(int(children[ind], 2) ^ pow(2, b), \"#08b\").lstrip('0b').zfill(6)\n",
    "\n",
    "        return children\n",
    "    \n",
    "    elif mutation_type == \"random\":\n",
    "        for ind in range(population_size):\n",
    "            \n",
    "            b_ind = np.random.randint(0, bit_Length - 1)\n",
    "            \n",
    "            children[ind] = format(int(children[ind], 2) ^ pow(2, b_ind), \"#08b\").lstrip('0b').zfill(6)\n",
    "            \n",
    "        return children"
   ]
  },
  {
   "cell_type": "code",
   "execution_count": 23,
   "metadata": {},
   "outputs": [],
   "source": [
    "def evolution(parents, children, population_Size, survival_death_rate):\n",
    "    '''\n",
    "    The evolution function decides which amongst the 2 * population_Size of parents and children go through to\n",
    "    the next generation. This functions picks the best x% of parents and the best (100 - x)% of children\n",
    "    \n",
    "    Input - parents - The array of parents\n",
    "            children - The array of parents after cross breeding and mutation\n",
    "            population_Size - The number of genes in a generation\n",
    "            survival_death_rate - Decides the percent of parents that survive\n",
    "            \n",
    "    Returns - Array of children that progress to the next generation\n",
    "    '''\n",
    "    parent_partition = int(math.floor(population_Size * survival_death_rate))\n",
    "    children_partition = population_Size - parent_partition\n",
    "    \n",
    "    fitted_parents = [f(int(x, 2)) for x in parents]\n",
    "    fitted_children = [f(int(x, 2)) for x in children]\n",
    "    \n",
    "    sorted_parents = np.sort(parents)[::-1]\n",
    "    sorted_children = np.sort(children)[::-1]\n",
    "\n",
    "    progressors = np.append(sorted_parents[:parent_partition], sorted_children[:children_partition])\n",
    "\n",
    "    return progressors"
   ]
  },
  {
   "cell_type": "code",
   "execution_count": 24,
   "metadata": {},
   "outputs": [],
   "source": [
    "def plot_generation_graph(lines, generations, num_of_lines, opti_fn_y):\n",
    "    '''\n",
    "    The function is used to plot how well the children are working in each generation.\n",
    "    \n",
    "    Input : lines - A multi-dimensional list consisting of the history of each child\n",
    "            generations - The life of the children\n",
    "            num_of_lines - The number of children that needs to be plotted\n",
    "            opti_fn_y - Plot the y-axis based of the optimisation function\n",
    "    '''\n",
    "    col_list = {0 : 'maroon', 1 : 'green', 2 : 'cornflowerblue', 3 : 'olive', 4 : 'black',\n",
    "                5 : 'blue', 6 : 'silver', 7 : 'purple', 8 : 'slateblue', 9 : 'hotpink'}\n",
    "    \n",
    "    line_list = [[] for _ in range(num_of_lines)]\n",
    "    \n",
    "    for l in range(len(lines)):\n",
    "        for i in range(min(num_of_lines, 10)):\n",
    "            if opti_fn_y == False:\n",
    "                line_list[i].append(int(lines[l][i], 2))\n",
    "            else:\n",
    "                line_list[i].append(f(int(lines[l][i], 2)))\n",
    "                   \n",
    "    x = range(generations)\n",
    "    \n",
    "    fig = plt.figure()\n",
    "    ax = fig.add_subplot(111)\n",
    "    \n",
    "    for i in range(min(num_of_lines, 10)):\n",
    "        if i == 0:\n",
    "            ax.plot(x, line_list[i], c = col_list[i], linestyle = \"--\", marker = 'o', label = \"Child \" + str(i+1))\n",
    "        else:\n",
    "            ax.plot(x, line_list[i], c = col_list[i], label = \"Child \" + str(i+1))\n",
    "    \n",
    "    plt.title(\"Graph\")\n",
    "    plt.xlabel(\"Number of Generations\")\n",
    "    \n",
    "    if opti_fn_y == False:\n",
    "        plt.ylabel(\"Bit String Value\")\n",
    "    elif opti_fn_y == True:\n",
    "        plt.ylabel(\"Optm. Function Value\")\n",
    "    \n",
    "    if opti_fn_y == False:\n",
    "        plt.yticks(range(40, 65, 1))\n",
    "    \n",
    "    plt.grid(True)\n",
    "    plt.legend()\n",
    "    plt.show()"
   ]
  },
  {
   "cell_type": "markdown",
   "metadata": {},
   "source": [
    "## Hyper Parameters"
   ]
  },
  {
   "cell_type": "code",
   "execution_count": 28,
   "metadata": {},
   "outputs": [],
   "source": [
    "bit_Length = 6\n",
    "population_Size = 10\n",
    "max_num_of_generations = 25\n",
    "\n",
    "inter_breeding_chance = 1\n",
    "mutation_chance = 1\n",
    "\n",
    "cross_breed_shuffle = True\n",
    "bit_cross_over = 0.5\n",
    "cross_over_type = \"single-point\"\n",
    "bit_mutation = 0.01\n",
    "mutation_type = \"random\"\n",
    "\n",
    "survival_death = 0.2"
   ]
  },
  {
   "cell_type": "markdown",
   "metadata": {},
   "source": [
    "## Main Function"
   ]
  },
  {
   "cell_type": "code",
   "execution_count": 27,
   "metadata": {
    "scrolled": false
   },
   "outputs": [
    {
     "data": {
      "image/png": "[encoded data removed]",
      "text/plain": [
       "<Figure size 1080x720 with 1 Axes>"
      ]
     },
     "metadata": {
      "needs_background": "light"
     },
     "output_type": "display_data"
    }
   ],
   "source": [
    "if __name__ == \"__main__\":\n",
    "    parents = create_Parents(population_Size, bit_Length)\n",
    "    plotting_elements = []\n",
    "    \n",
    "    num_of_generations = 0\n",
    "    \n",
    "    for _ in range(max_num_of_generations):\n",
    "        children = select_Succesors(parents, population_Size)\n",
    "        \n",
    "        if np.random.rand() < inter_breeding_chance:\n",
    "            bred_children = cross_breed(children, cross_over_type, cross_breed_shuffle, bit_cross_over, bit_Length)\n",
    "            \n",
    "        if np.random.rand() < mutation_chance:\n",
    "            mutant_children = mutation(children, mutation_type, bit_mutation, bit_Length)\n",
    "        \n",
    "        survivors = evolution(parents, mutant_children, population_Size, survival_death)\n",
    "        parents = survivors\n",
    "        \n",
    "        plotting_elements.append(survivors)\n",
    "        num_of_generations = num_of_generations + 1\n",
    "        \n",
    "        \n",
    "    plot_generation_graph(plotting_elements, num_of_generations, num_of_lines = 10, opti_fn_y = False)"
   ]
  },
  {
   "cell_type": "code",
   "execution_count": null,
   "metadata": {},
   "outputs": [],
   "source": []
  }
 ],
 "metadata": {
  "kernelspec": {
   "display_name": "Python 3",
   "language": "python",
   "name": "python3"
  },
  "language_info": {
   "codemirror_mode": {
    "name": "ipython",
    "version": 3
   },
   "file_extension": ".py",
   "mimetype": "text/x-python",
   "name": "python",
   "nbconvert_exporter": "python",
   "pygments_lexer": "ipython3",
   "version": "3.6.9"
  }
 },
 "nbformat": 4,
 "nbformat_minor": 2
}
